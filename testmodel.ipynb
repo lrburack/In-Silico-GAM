{
 "cells": [
  {
   "cell_type": "code",
   "outputs": [],
   "source": [
    "from Model import *\n",
    "import numpy as np"
   ],
   "metadata": {
    "collapsed": false,
    "ExecuteTime": {
     "end_time": "2024-01-28T00:41:24.954620100Z",
     "start_time": "2024-01-28T00:41:24.494793900Z"
    }
   },
   "id": "2b1cd3755a5bf19f",
   "execution_count": 1
  },
  {
   "cell_type": "code",
   "outputs": [],
   "source": [
    "m = Model()\n",
    "\n",
    "m.multiplexing = 2\n",
    "m.ploidy = 1\n",
    "m.detection_probability = .2\n",
    "\n",
    "# Array of probabilities p_2, p_1, p_0\n",
    "p_2 = .1\n",
    "p_1 = .2\n",
    "p_0 = .5\n",
    "\n",
    "print(m.predict((p_0, p_1, p_2)))"
   ],
   "metadata": {
    "collapsed": false
   },
   "id": "877676e825e953cf",
   "execution_count": null
  },
  {
   "cell_type": "markdown",
   "source": [
    "Test cases for the collapse_homologs method"
   ],
   "metadata": {
    "collapsed": false
   },
   "id": "37ce45f057d0d248"
  },
  {
   "cell_type": "code",
   "outputs": [],
   "source": [
    "print(\"Test cases for the collapse_homologs method\")\n",
    "print(\"ploidy\\talpha\\tbeta\\tprediction\\tactual\")\n",
    "m.ploidy = 1\n",
    "print(\"1\\t\\t1\\t\\t1\\t\\t\" + str(m.collapse_homologs(1, 1)) + \"\\t\\t\" + str(p_2))\n",
    "m.ploidy = 2\n",
    "print(\"2\\t\\t2\\t\\t1\\t\\t\" + str(m.collapse_homologs(2, 1)) + \"\\t\\t\" + str(p_2*p_1 * 2))\n",
    "m.ploidy = 3\n",
    "print(\"3\\t\\t2\\t\\t1\\t\\t\" + str(m.collapse_homologs(2, 1)) + \"\\t\\t\" + str(p_2*p_1*p_0 * 6 + p_1**3))\n",
    "print(\"3\\t\\t0\\t\\t3\\t\\t\" + str(m.collapse_homologs(0, 3)) + \"\\t\\t\" + str(p_1**3))"
   ],
   "metadata": {
    "collapsed": false
   },
   "id": "initial_id",
   "execution_count": null
  },
  {
   "cell_type": "markdown",
   "source": [
    "Test cases for the detect method"
   ],
   "metadata": {
    "collapsed": false
   },
   "id": "84c7fb24ecc2871d"
  },
  {
   "cell_type": "code",
   "outputs": [],
   "source": [
    "print(\"Test cases for the detect method\")\n",
    "print(\"detection_probability\\tploidy\\talpha\\tbeta\\tprediction\\tactual\")\n",
    "m.detection_probability = 1\n",
    "m.ploidy = 1\n",
    "print(\"1\\t\\t\\t\\t\\t\\t1\\t\\t0\\t\\t0\\t\\t\" + str(m.detect(0, 0)) + \"\\t\\t\\t\" + str(m.collapse_homologs(0, 0)))\n",
    "m.detection_probability = .5\n",
    "m.ploidy = 2\n",
    "print(\"0.5\\t\\t\\t\\t\\t\\t2\\t\\t1\\t\\t1\\t\\t\" + str(m.detect(1, 1)) + \"\\t\\t\\t\" + str(m.collapse_homologs(1, 1)*.5**2 + m.collapse_homologs(2, 1)*2*2*.5**3 + m.collapse_homologs(2, 2)*4*.5**4))\n",
    "m.detection_probability = .5\n",
    "m.ploidy = 2\n",
    "print(\"0.5\\t\\t\\t\\t\\t\\t2\\t\\t2\\t\\t1\\t\\t\" + str(m.detect(2, 1)) + \"\\t\\t\\t\" + str(m.collapse_homologs(2, 1)*.5**3 + m.collapse_homologs(2, 2)*2*.5**4))"
   ],
   "metadata": {
    "collapsed": false
   },
   "id": "b9c52b6febc9c6a3",
   "execution_count": null
  },
  {
   "cell_type": "markdown",
   "source": [
    "Test cases for the whole model"
   ],
   "metadata": {
    "collapsed": false
   },
   "id": "8354260b530efeb9"
  },
  {
   "cell_type": "code",
   "outputs": [],
   "source": [
    "m.multiplexing = 1\n",
    "m.ploidy = 1\n",
    "m.detection_probability = 1\n",
    "print(m.predict((.1, .2, .5)))"
   ],
   "metadata": {
    "collapsed": false
   },
   "id": "c9c98891b7ce96f6",
   "execution_count": null
  },
  {
   "cell_type": "markdown",
   "source": [
    "Use a static model to predict distances between loci using in-silico GAM data\n",
    "1. Generate the structure and view it"
   ],
   "metadata": {
    "collapsed": false
   },
   "id": "3ab79f562b512cd9"
  },
  {
   "cell_type": "code",
   "outputs": [],
   "source": [
    "from GAM import GAM\n",
    "from utilities import *\n",
    "import matplotlib.pyplot as plt\n",
    "import pickle\n",
    "from mpl_toolkits.mplot3d import Axes3D\n",
    "import scipy.spatial.distance as dist\n",
    "\n",
    "structure = random_walk(length=1000)\n",
    "structure = center_structure(structure)\n",
    "pickle.dump(structure, open('teststructure.pkl', 'wb'))\n",
    "\n",
    "fig = plt.figure()\n",
    "ax = Axes3D(fig, auto_add_to_figure=False)\n",
    "fig.add_axes(ax)\n",
    "ax.projection = '3d'\n",
    "ax.plot(*structure.T)"
   ],
   "metadata": {
    "collapsed": false
   },
   "id": "4437c2a8f2fb2ab5",
   "execution_count": null
  },
  {
   "cell_type": "markdown",
   "source": [
    "2. Set up the experiment and run it"
   ],
   "metadata": {
    "collapsed": false
   },
   "id": "634e6a22751ddc3f"
  },
  {
   "cell_type": "code",
   "outputs": [],
   "source": [
    "nuclear_radius = np.max(np.linalg.norm(structure, axis=1))\n",
    "slice_width = nuclear_radius * .5\n",
    "\n",
    "g = GAM(slice_width=slice_width, pick_slice=GAM.uniform_radius, nuclear_radius=nuclear_radius)\n",
    "run = g.run([\"myrandomwalk.pkl\"], NPs=10000)"
   ],
   "metadata": {
    "collapsed": false
   },
   "id": "4ee55bde11fb48c6",
   "execution_count": null
  },
  {
   "cell_type": "markdown",
   "source": [
    "3. View the results"
   ],
   "metadata": {
    "collapsed": false
   },
   "id": "9a7e7c78dd606210"
  },
  {
   "cell_type": "code",
   "outputs": [],
   "source": [
    "fig, [ax1, ax2] = plt.subplots(1,2)\n",
    "\n",
    "ax1.imshow(run[\"results\"][\"cosectioning_frequency\"], cmap='viridis')\n",
    "ax1.set_title(\"Cosectioning map\")\n",
    "ax2.imshow(dist.cdist(structure, structure))\n",
    "ax2.set_title(\"Distance map\")"
   ],
   "metadata": {
    "collapsed": false
   },
   "id": "e18d33cf11cd034d",
   "execution_count": null
  },
  {
   "cell_type": "markdown",
   "source": [
    "4. Use a static model to predict the distances between beads i and j"
   ],
   "metadata": {
    "collapsed": false
   },
   "id": "d6e18a23306fcb25"
  },
  {
   "cell_type": "code",
   "outputs": [],
   "source": [
    "s = StaticModel(slice_range=2 * nuclear_radius + slice_width, slice_width=slice_width)\n",
    "beads = 100\n",
    "\n",
    "fits = np.zeros((beads, beads))\n",
    "\n",
    "for i in range(beads):\n",
    "    for j in range(i + 1, beads):\n",
    "        m_i = (run[\"results\"][\"m_i\"][0][i][j], run[\"results\"][\"m_i\"][1][i][j], run[\"results\"][\"m_i\"][2][i][j])\n",
    "        fits[i,j] = s.fit(m_i, (1,), cost=Model.default_cost).x"
   ],
   "metadata": {
    "collapsed": false
   },
   "id": "de869b034127b5db",
   "execution_count": null
  },
  {
   "cell_type": "code",
   "outputs": [],
   "source": [
    "fig, ax = plt.subplots()\n",
    "\n",
    "ax.plot(np.arange(len(structure)), run[\"results\"][\"sectioning_frequency\"])\n",
    "plt.show()\n",
    "\n",
    "fig = plt.figure()\n",
    "ax = Axes3D(fig, auto_add_to_figure=False)\n",
    "fig.add_axes(ax)\n",
    "ax.projection = '3d'\n",
    "a = ax.scatter(*structure.T, c=run[\"results\"][\"sectioning_frequency\"])\n",
    "fig.colorbar(a, ax=ax)"
   ],
   "metadata": {
    "collapsed": false
   },
   "id": "eb34ed25e947ae80",
   "execution_count": null
  },
  {
   "cell_type": "code",
   "outputs": [],
   "source": [
    "from matplotlib.colors import Normalize\n",
    "from matplotlib import cm\n",
    "\n",
    "prox = dist.cdist(structure[:beads], structure[:beads])\n",
    "\n",
    "cmap = cm.viridis\n",
    "vmin, vmax = 0, np.max([fits, prox])  # Replace with your desired bounds\n",
    "\n",
    "# Normalize the data to the range [0, 1]\n",
    "norm = Normalize(vmin=vmin, vmax=vmax)\n",
    "\n",
    "fig, [ax1, ax2] = plt.subplots(1,2)\n",
    "\n",
    "a=ax1.imshow(fits, norm=norm)\n",
    "fig.colorbar(a, ax=ax1, shrink=.5)\n",
    "a=ax2.imshow(prox, norm=norm)\n",
    "fig.colorbar(a, ax=ax2, shrink=.5)"
   ],
   "metadata": {
    "collapsed": false
   },
   "id": "ff77e7e15a156cf0",
   "execution_count": null
  },
  {
   "cell_type": "code",
   "outputs": [],
   "source": [
    "func = np.vectorize(s.fit)\n",
    "func(run[\"results\"][\"m_i\"], (1,))"
   ],
   "metadata": {
    "collapsed": false
   },
   "id": "530d6f841711a518",
   "execution_count": null
  },
  {
   "cell_type": "markdown",
   "source": [
    "Test the slice model"
   ],
   "metadata": {
    "collapsed": false
   },
   "id": "18a35991ed856b76"
  },
  {
   "cell_type": "code",
   "outputs": [
    {
     "name": "stdout",
     "output_type": "stream",
     "text": [
      "(0.04000000000000001, 0.42, 0.54)\n",
      "(0.04000000000000001, 0.42, 0.54)\n"
     ]
    }
   ],
   "source": [
    "sl = SLICE((.5, .2, .1), (.2, .3, .2), ploidy=2)\n",
    "\n",
    "print(sl.predict(1))\n",
    "\n",
    "m = Model(ploidy=2)\n",
    "print(m.predict((.2, .3, .2)))"
   ],
   "metadata": {
    "collapsed": false,
    "ExecuteTime": {
     "end_time": "2024-01-28T00:41:52.664832200Z",
     "start_time": "2024-01-28T00:41:52.640143100Z"
    }
   },
   "id": "7b36accd435582e1",
   "execution_count": 5
  }
 ],
 "metadata": {
  "kernelspec": {
   "display_name": "Python 3",
   "language": "python",
   "name": "python3"
  },
  "language_info": {
   "codemirror_mode": {
    "name": "ipython",
    "version": 2
   },
   "file_extension": ".py",
   "mimetype": "text/x-python",
   "name": "python",
   "nbconvert_exporter": "python",
   "pygments_lexer": "ipython2",
   "version": "2.7.6"
  }
 },
 "nbformat": 4,
 "nbformat_minor": 5
}
