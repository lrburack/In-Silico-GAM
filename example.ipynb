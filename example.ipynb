{
 "cells": [
  {
   "cell_type": "code",
   "execution_count": 1,
   "id": "5a92823b26c7b82f",
   "metadata": {
    "ExecuteTime": {
     "end_time": "2024-02-02T16:54:07.674925500Z",
     "start_time": "2024-02-02T16:54:05.620303400Z"
    },
    "collapsed": false,
    "jupyter": {
     "outputs_hidden": false
    }
   },
   "outputs": [],
   "source": [
    "from GAM import *\n",
    "from utilities import *\n",
    "import matplotlib.pyplot as plt\n",
    "import pickle\n",
    "from mpl_toolkits.mplot3d import Axes3D\n",
    "import scipy.spatial.distance as dist"
   ]
  },
  {
   "cell_type": "markdown",
   "id": "9e888612c822cdc0",
   "metadata": {},
   "source": [
    "For this example, we will pretend the genome is static. Load a single structure (in this case a random walk polymer), and center it"
   ]
  },
  {
   "cell_type": "code",
   "execution_count": null,
   "id": "782f7283c4d96572",
   "metadata": {
    "ExecuteTime": {
     "end_time": "2024-02-02T16:54:12.765831200Z",
     "start_time": "2024-02-02T16:54:12.733495Z"
    },
    "collapsed": false,
    "jupyter": {
     "outputs_hidden": false
    }
   },
   "outputs": [],
   "source": [
    "# structure = random_walk(length=1000)\n",
    "# structure = center_structure(structure)\n",
    "# pickle.dump(structure, open('myrandomwalk.pkl', 'wb'))"
   ]
  },
  {
   "cell_type": "code",
   "execution_count": 7,
   "id": "2ef707f3-33e6-4550-8527-7c6abcd791b6",
   "metadata": {},
   "outputs": [],
   "source": [
    "cndb_files = [\"/work/dipierrolab/linden/data for eternity/structures/full_genome/spring_ensemble/101/2000&2138/nucleus_0.cndb\",\n",
    "              \"/work/dipierrolab/linden/data for eternity/structures/full_genome/spring_ensemble/101/2000&2138/nucleus_23.cndb\"]"
   ]
  },
  {
   "cell_type": "code",
   "execution_count": 9,
   "id": "6ea7ffe7-a378-473a-8b24-de92ae8877ed",
   "metadata": {},
   "outputs": [
    {
     "name": "stdout",
     "output_type": "stream",
     "text": [
      "[4986 4986]\n"
     ]
    }
   ],
   "source": [
    "chromosomes = np.empty(len(cndb_files), dtype=object)\n",
    "beads_per_chr = np.zeros(len(cndb_files), dtype=np.int32)\n",
    "for i in range(len(cndb_files)):\n",
    "    chromosomes[i] = cndbTools()\n",
    "    chromosomes[i].load(cndb_files[i])\n",
    "    beads_per_chr[i] = int(chromosomes[i].Nbeads)\n",
    "    \n",
    "print(beads_per_chr)\n",
    "beads = int(np.sum(beads_per_chr))\n",
    "structure = np.empty((beads, 3), dtype=np.float64)\n",
    "frame = 0    \n",
    "bead_offset = 0  # Keep track of where each chromosome’s data goes\n",
    "for chr_idx in range(len(cndb_files)):\n",
    "    chr_beads = beads_per_chr[chr_idx]\n",
    "    structure[int(bead_offset):bead_offset + chr_beads, :] = chromosomes[chr_idx].cndb[str(frame)]\n",
    "    bead_offset += chr_beads\n",
    "    # for j in range(NPs):\n",
    "    #     sec[i * NPs + j, :] = self.NP(structure)"
   ]
  },
  {
   "cell_type": "markdown",
   "id": "e3777aaf3a71d87c",
   "metadata": {},
   "source": [
    "Show the structure"
   ]
  },
  {
   "cell_type": "code",
   "execution_count": null,
   "id": "5a04f29b0ff1dc4f",
   "metadata": {
    "ExecuteTime": {
     "end_time": "2024-02-02T16:54:14.454450100Z",
     "start_time": "2024-02-02T16:54:14.307646Z"
    },
    "collapsed": false,
    "jupyter": {
     "outputs_hidden": false
    }
   },
   "outputs": [],
   "source": [
    "fig = plt.figure()\n",
    "ax = Axes3D(fig, auto_add_to_figure=False)\n",
    "fig.add_axes(ax)\n",
    "ax.projection = '3d'\n",
    "ax.plot(*structure.T)"
   ]
  },
  {
   "cell_type": "markdown",
   "id": "4c6dc6741dee4336",
   "metadata": {},
   "source": [
    "Create a GAM configuration object. This object contains the parameters of the experiment"
   ]
  },
  {
   "cell_type": "code",
   "execution_count": 3,
   "id": "c8697fed229675c1",
   "metadata": {
    "ExecuteTime": {
     "end_time": "2024-02-02T16:54:17.591784700Z",
     "start_time": "2024-02-02T16:54:17.574127500Z"
    },
    "collapsed": false,
    "jupyter": {
     "outputs_hidden": false
    }
   },
   "outputs": [],
   "source": [
    "g = GAM(slice_width=5)"
   ]
  },
  {
   "cell_type": "markdown",
   "id": "c522bebe84ab72b1",
   "metadata": {},
   "source": [
    "Illustrate what a nuclear profile of your structure would look like with the current GAM configuration"
   ]
  },
  {
   "cell_type": "code",
   "execution_count": null,
   "id": "d5644e32ad52dfdf",
   "metadata": {
    "ExecuteTime": {
     "end_time": "2024-02-02T16:54:23.815805300Z",
     "start_time": "2024-02-02T16:54:23.584160200Z"
    },
    "collapsed": false,
    "jupyter": {
     "outputs_hidden": false
    }
   },
   "outputs": [],
   "source": [
    "fig = plt.figure()\n",
    "ax = Axes3D(fig, auto_add_to_figure=False)\n",
    "fig.add_axes(ax)\n",
    "ax.projection = '3d'\n",
    "ax.plot(*structure.T)\n",
    "sectioned = g.illustrate_NP(ax, structure)"
   ]
  },
  {
   "cell_type": "markdown",
   "id": "1b83e432f968100b",
   "metadata": {},
   "source": [
    "Run the experiment with 1000 NPs"
   ]
  },
  {
   "cell_type": "code",
   "execution_count": 4,
   "id": "26866b93-f508-401f-96f8-145efe53c4f5",
   "metadata": {
    "ExecuteTime": {
     "end_time": "2024-02-02T16:54:36.208032800Z",
     "start_time": "2024-02-02T16:54:26.764086400Z"
    },
    "collapsed": false,
    "jupyter": {
     "outputs_hidden": false
    }
   },
   "outputs": [],
   "source": [
    "# run = g.run([\"myrandomwalk.pkl\"], len(structure), NPs=1000)\n",
    "run = g.run_cndb(structure)\n",
    "# results1 = g.results(run[\"processed\"])\n",
    "# results2 = g.results2(run[\"processed\"])\n",
    "# results3 = g.faster_results2(run[\"processed\"])"
   ]
  },
  {
   "cell_type": "code",
   "execution_count": 5,
   "id": "d7c09b36-7631-442e-ab95-ab9611ef1e73",
   "metadata": {
    "ExecuteTime": {
     "end_time": "2024-02-02T16:54:36.208032800Z",
     "start_time": "2024-02-02T16:54:26.764086400Z"
    },
    "collapsed": false,
    "jupyter": {
     "outputs_hidden": false
    }
   },
   "outputs": [
    {
     "name": "stdout",
     "output_type": "stream",
     "text": [
      "200\n"
     ]
    }
   ],
   "source": [
    "print(len(run[\"processed\"]))"
   ]
  },
  {
   "cell_type": "code",
   "execution_count": null,
   "id": "ec940604-8235-4ef6-a128-04356e5d60e2",
   "metadata": {},
   "outputs": [],
   "source": [
    "for key in results1.keys():\n",
    "    print(f\"{key}: {np.all(results2[key] == results3[key])}\")"
   ]
  },
  {
   "cell_type": "code",
   "execution_count": null,
   "id": "cbeb8fd5-5d65-4480-a316-2405edbbc6b3",
   "metadata": {},
   "outputs": [],
   "source": [
    "i = 2\n",
    "print(results1[\"m_i\"][:,:,i])\n",
    "print()\n",
    "print(results2[\"m_i\"][:,:,i])\n",
    "print()\n",
    "print(results3[\"m_i\"][:,:,i])"
   ]
  },
  {
   "cell_type": "markdown",
   "id": "d0477c6d79846eb9",
   "metadata": {},
   "source": [
    "View the results"
   ]
  },
  {
   "cell_type": "code",
   "execution_count": null,
   "id": "8ff7f97f88608b86",
   "metadata": {
    "ExecuteTime": {
     "end_time": "2024-02-02T16:54:37.655185800Z",
     "start_time": "2024-02-02T16:54:37.138201200Z"
    },
    "collapsed": false,
    "jupyter": {
     "outputs_hidden": false
    }
   },
   "outputs": [],
   "source": [
    "fig, [ax1, ax2] = plt.subplots(1,2)\n",
    "\n",
    "ax1.imshow(results[\"normalized_cosectioning\"], cmap='viridis')\n",
    "ax1.set_title(\"Cosectioning map\")\n",
    "ax2.imshow(dist.cdist(structure, structure))\n",
    "ax2.set_title(\"Distance map\")"
   ]
  },
  {
   "cell_type": "code",
   "execution_count": null,
   "id": "decc1d2e-73cc-4326-af59-01ac5a5c155c",
   "metadata": {},
   "outputs": [],
   "source": []
  }
 ],
 "metadata": {
  "kernelspec": {
   "display_name": "Python 3 (ipykernel)",
   "language": "python",
   "name": "python3"
  },
  "language_info": {
   "codemirror_mode": {
    "name": "ipython",
    "version": 3
   },
   "file_extension": ".py",
   "mimetype": "text/x-python",
   "name": "python",
   "nbconvert_exporter": "python",
   "pygments_lexer": "ipython3",
   "version": "3.7.16"
  }
 },
 "nbformat": 4,
 "nbformat_minor": 5
}
